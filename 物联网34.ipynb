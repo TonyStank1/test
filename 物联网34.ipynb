{
 "cells": [
  {
   "cell_type": "code",
   "execution_count": 1,
   "metadata": {},
   "outputs": [],
   "source": [
    "import re"
   ]
  },
  {
   "cell_type": "code",
   "execution_count": 2,
   "metadata": {},
   "outputs": [
    {
     "name": "stdout",
     "output_type": "stream",
     "text": [
      "<re.Match object; span=(0, 3), match='www'>\n",
      "None\n"
     ]
    }
   ],
   "source": [
    "print(re.match('www','www.cqyti.com'))\n",
    "print(re.match('com','www.cqyti.com'))"
   ]
  },
  {
   "cell_type": "code",
   "execution_count": 3,
   "metadata": {},
   "outputs": [
    {
     "name": "stdout",
     "output_type": "stream",
     "text": [
      "<re.Match object; span=(10, 13), match='com'>\n",
      "10\n",
      "13\n"
     ]
    }
   ],
   "source": [
    "obj = re.search('com','www.cqyti.com')\n",
    "print(obj)\n",
    "print(obj.start())\n",
    "print(obj.end())"
   ]
  },
  {
   "cell_type": "code",
   "execution_count": 4,
   "metadata": {},
   "outputs": [
    {
     "data": {
      "text/plain": [
       "False"
      ]
     },
     "execution_count": 4,
     "metadata": {},
     "output_type": "execute_result"
    }
   ],
   "source": [
    "a = 'Our bigdata teacher is a handsome and clever boy'\n",
    "b = 'handsome'\n",
    "c = 'foolish'\n",
    "\n",
    "c in a"
   ]
  },
  {
   "cell_type": "code",
   "execution_count": 5,
   "metadata": {},
   "outputs": [
    {
     "data": {
      "text/plain": [
       "<re.Match object; span=(10, 13), match='rig'>"
      ]
     },
     "execution_count": 5,
     "metadata": {},
     "output_type": "execute_result"
    }
   ],
   "source": [
    "st1 = 'You are a rig student'\n",
    "re.search(r'[bdpr]ig',st1)"
   ]
  },
  {
   "cell_type": "markdown",
   "metadata": {},
   "source": [
    "# 简单爬虫的实现 "
   ]
  },
  {
   "cell_type": "code",
   "execution_count": 6,
   "metadata": {},
   "outputs": [],
   "source": [
    "from urllib.request import urlopen\n",
    "import webbrowser"
   ]
  },
  {
   "cell_type": "code",
   "execution_count": 7,
   "metadata": {},
   "outputs": [
    {
     "name": "stdout",
     "output_type": "stream",
     "text": [
      "<class 'str'>\n"
     ]
    }
   ],
   "source": [
    "url = 'http://www.yinkuan.club'\n",
    "# webbrowser.open(url)\n",
    "html = urlopen(url).read().decode('utf-8')\n",
    "print(type(html))"
   ]
  },
  {
   "cell_type": "code",
   "execution_count": 8,
   "metadata": {},
   "outputs": [
    {
     "name": "stdout",
     "output_type": "stream",
     "text": [
      "['尹宽的个人主页|简历']\n"
     ]
    }
   ],
   "source": [
    "import re\n",
    "title = re.findall(r'<title>(.+)?</title>',html)\n",
    "print(title)"
   ]
  },
  {
   "cell_type": "code",
   "execution_count": 9,
   "metadata": {},
   "outputs": [
    {
     "name": "stdout",
     "output_type": "stream",
     "text": [
      "['主要研究方向为人工智能、计算机视觉、深度学习、机器学习', '发表学术论文三篇，均为中文核心期刊，一篇被EI收录', '申请软件著作权五项', '主修专业测绘工程，进行大地测量、摄影测量、遥感等专业知识学习，熟悉GPS、GIS、RS相关技术', '2019-2020 yinkuan.top 版权所有 &mdash;ICP证: <a href=\"http://www.beian.miit.gov.cn\">渝ICP备19007783号</a> ']\n"
     ]
    }
   ],
   "source": [
    "p = re.findall(r'<p>(.+)?</p>',html)\n",
    "print(p)"
   ]
  },
  {
   "cell_type": "code",
   "execution_count": 10,
   "metadata": {},
   "outputs": [],
   "source": [
    "from bs4 import BeautifulSoup"
   ]
  },
  {
   "cell_type": "code",
   "execution_count": 11,
   "metadata": {},
   "outputs": [
    {
     "name": "stdout",
     "output_type": "stream",
     "text": [
      "<class 'bs4.BeautifulSoup'>\n"
     ]
    }
   ],
   "source": [
    "soup = BeautifulSoup(html,'lxml')\n",
    "print(type(soup))"
   ]
  },
  {
   "cell_type": "code",
   "execution_count": 12,
   "metadata": {},
   "outputs": [
    {
     "name": "stdout",
     "output_type": "stream",
     "text": [
      "<p class=\"mb-0\">Hello,我是尹宽，来自重庆，是四川师范大学计算机科学与技术专业硕士研究生，主要研究方向为人工智能计算机视觉方向，从事单目标跟踪方面的研究，\r\n",
      "\t\t\t\t\t\t主要研究技术为深度学习、机器学习以及相关滤波技术，对人工智能、图像处理相关领域有着广泛的兴趣。</p>\n",
      "[<p class=\"mb-0\">Hello,我是尹宽，来自重庆，是四川师范大学计算机科学与技术专业硕士研究生，主要研究方向为人工智能计算机视觉方向，从事单目标跟踪方面的研究，\r\n",
      "\t\t\t\t\t\t主要研究技术为深度学习、机器学习以及相关滤波技术，对人工智能、图像处理相关领域有着广泛的兴趣。</p>, <p>主要研究方向为人工智能、计算机视觉、深度学习、机器学习</p>, <p>发表学术论文三篇，均为中文核心期刊，一篇被EI收录</p>, <p>申请软件著作权五项</p>, <p>主修专业测绘工程，进行大地测量、摄影测量、遥感等专业知识学习，熟悉GPS、GIS、RS相关技术</p>, <p>2019-2020 yinkuan.top 版权所有 —ICP证: <a href=\"http://www.beian.miit.gov.cn\">渝ICP备19007783号</a> </p>]\n"
     ]
    }
   ],
   "source": [
    "print(soup.p)\n",
    "print(soup.find_all('p'))"
   ]
  },
  {
   "cell_type": "code",
   "execution_count": 13,
   "metadata": {},
   "outputs": [
    {
     "name": "stdout",
     "output_type": "stream",
     "text": [
      "[<a href=\"mailto:yinkuan0926@126.com\"><i class=\"far fa-envelope fa-fw mr-2\" data-fa-transform=\"grow-3\"></i>yinkuan0926@126.com</a>, <a href=\"#\"><i class=\"fas fa-mobile-alt fa-fw mr-2\" data-fa-transform=\"grow-6\"></i>17381580926</a>, <a href=\"https://www.linkedin.com/in/%E5%AE%BD-%E5%B0%B9-584305189/\" target=\"_blank\"><span class=\"fa-container text-center mr-2\"><i class=\"fab fa-linkedin-in fa-fw\"></i></span>我的领英</a>, <a href=\"#\" id=\"main\"><span class=\"fa-container text-center mr-2\"><i class=\"fab fa-weixin fa-fw\"></i></span>微信</a>, <a href=\"https://weibo.com/u/1584540592\" target=\"_blank\"><span class=\"fa-container text-center mr-2\"><i class=\"fab fa-weibo fa-fw\"></i></span>我的微博</a>, <a href=\"index_photo.html\" target=\"_blank\"><span class=\"fa-container text-center mr-2\"><i class=\"fas fa-globe\"></i></span>我的照片</a>, <a href=\"http://www.cssmoban.com/\" title=\"网站模板\">网站模板</a>, <a href=\"http://www.beian.miit.gov.cn\">渝ICP备19007783号</a>]\n"
     ]
    }
   ],
   "source": [
    "a = soup.find_all('a')\n",
    "print(a)"
   ]
  },
  {
   "cell_type": "code",
   "execution_count": 14,
   "metadata": {},
   "outputs": [
    {
     "name": "stdout",
     "output_type": "stream",
     "text": [
      "mailto:yinkuan0926@126.com\n",
      "#\n",
      "https://www.linkedin.com/in/%E5%AE%BD-%E5%B0%B9-584305189/\n",
      "#\n",
      "https://weibo.com/u/1584540592\n",
      "index_photo.html\n",
      "http://www.cssmoban.com/\n",
      "http://www.beian.miit.gov.cn\n"
     ]
    }
   ],
   "source": [
    "for djj in a:\n",
    "    print(djj['href'])"
   ]
  },
  {
   "cell_type": "code",
   "execution_count": 15,
   "metadata": {},
   "outputs": [
    {
     "name": "stdout",
     "output_type": "stream",
     "text": [
      "<!DOCTYPE html>\n",
      "<html lang=\"en\">\n",
      "<head>\n",
      "<meta charset=\"utf-8\"/>\n",
      "<title>这是大数据的测试网页</title>\n",
      "<style>\r\n",
      "        .bigdata{\r\n",
      "            background-color: greenyellow;\r\n",
      "            width: 700px;\r\n",
      "            height: 300px;\r\n",
      "\r\n",
      "        }\r\n",
      "        .C{\r\n",
      "            background-color: #00aced;\r\n",
      "            width: 700px;\r\n",
      "            height: 200px;\r\n",
      "        }\r\n",
      "    </style>\n",
      "</head>\n",
      "<body>\n",
      "<div class=\"bigdata\">\n",
      "<h1>物联网</h1>\n",
      "<ul class=\"wlw\">\n",
      "<li class=\"dd\">物联网一班</li>\n",
      "<li class=\"dd\">物联网二班</li>\n",
      "<li class=\"dd\">物联网三班</li>\n",
      "<li class=\"dd\">物联网四班</li>\n",
      "</ul>\n",
      "</div>\n",
      "<div class=\"C\">\n",
      "<h1>远景</h1>\n",
      "<ul class=\"yj\">\n",
      "<li class=\"dy\">远景计算机</li>\n",
      "<li class=\"dy\">远景软件</li>\n",
      "</ul>\n",
      "</div>\n",
      "</body>\n",
      "</html>\n"
     ]
    }
   ],
   "source": [
    "url = 'https://www.yinkuan.club/bigdata.html'\n",
    "html = urlopen(url).read().decode('utf-8')\n",
    "soup = BeautifulSoup(html,'lxml')\n",
    "print(soup)"
   ]
  },
  {
   "cell_type": "code",
   "execution_count": 16,
   "metadata": {},
   "outputs": [
    {
     "name": "stdout",
     "output_type": "stream",
     "text": [
      "[<li class=\"dd\">物联网一班</li>, <li class=\"dd\">物联网二班</li>, <li class=\"dd\">物联网三班</li>, <li class=\"dd\">物联网四班</li>, <li class=\"dy\">远景计算机</li>, <li class=\"dy\">远景软件</li>]\n"
     ]
    }
   ],
   "source": [
    "bj = soup.find_all('li')\n",
    "print(bj)"
   ]
  },
  {
   "cell_type": "code",
   "execution_count": 17,
   "metadata": {},
   "outputs": [
    {
     "name": "stdout",
     "output_type": "stream",
     "text": [
      "物联网一班\n",
      "物联网二班\n",
      "物联网三班\n",
      "物联网四班\n",
      "远景计算机\n",
      "远景软件\n"
     ]
    }
   ],
   "source": [
    "for zzy in bj:\n",
    "    print(zzy.get_text())\n",
    "    "
   ]
  },
  {
   "cell_type": "code",
   "execution_count": 18,
   "metadata": {},
   "outputs": [
    {
     "name": "stdout",
     "output_type": "stream",
     "text": [
      "[<li class=\"dd\">物联网一班</li>, <li class=\"dd\">物联网二班</li>, <li class=\"dd\">物联网三班</li>, <li class=\"dd\">物联网四班</li>]\n"
     ]
    }
   ],
   "source": [
    "jzs = soup.find_all('li',{'class':'dd'})\n",
    "print(jzs)"
   ]
  },
  {
   "cell_type": "code",
   "execution_count": 19,
   "metadata": {},
   "outputs": [
    {
     "name": "stdout",
     "output_type": "stream",
     "text": [
      "物联网一班\n",
      "物联网二班\n",
      "物联网三班\n",
      "物联网四班\n"
     ]
    }
   ],
   "source": [
    "for wlj in jzs:\n",
    "    print(wlj.get_text())"
   ]
  },
  {
   "cell_type": "markdown",
   "metadata": {},
   "source": [
    "# 正则表达式爬取"
   ]
  },
  {
   "cell_type": "code",
   "execution_count": 20,
   "metadata": {},
   "outputs": [],
   "source": [
    "url = 'https://www.yinkuan.club/index_photo.html'\n",
    "html = urlopen(url).read().decode('utf-8')\n",
    "soup = BeautifulSoup(html,'lxml')"
   ]
  },
  {
   "cell_type": "code",
   "execution_count": 22,
   "metadata": {},
   "outputs": [
    {
     "name": "stdout",
     "output_type": "stream",
     "text": [
      "[<img src=\"images/favicon.png\"/>, <img alt=\"Nature\" class=\"img-fluid\" src=\"images/gallery-img-01.jpg\"/>, <img alt=\"Nature\" class=\"img-fluid\" src=\"images/gallery-img-02.JPG\"/>, <img alt=\"Nature\" class=\"img-fluid\" src=\"images/gallery-img-03.JPG\"/>, <img alt=\"Nature\" class=\"img-fluid\" src=\"images/gallery-img-04.JPG\"/>, <img alt=\"Nature\" class=\"img-fluid\" src=\"images/gallery-img-05.JPG\"/>, <img alt=\"Nature\" class=\"img-fluid\" src=\"images/gallery-img-06.JPG\"/>, <img alt=\"People\" class=\"img-fluid\" src=\"images/gallery-img-07.jpg\"/>, <img alt=\"People\" class=\"img-fluid\" src=\"images/gallery-img-08.jpg\"/>, <img alt=\"People\" class=\"img-fluid\" src=\"images/gallery-img-09.jpg\"/>, <img alt=\"People\" class=\"img-fluid\" src=\"images/gallery-img-10.jpg\"/>, <img alt=\"People\" class=\"img-fluid\" src=\"images/gallery-img-11.jpg\"/>, <img alt=\"People\" class=\"img-fluid\" src=\"images/gallery-img-12.jpg\"/>, <img alt=\"Computer\" class=\"img-fluid\" src=\"images/gallery-img-13.jpeg\"/>]\n"
     ]
    }
   ],
   "source": [
    "img = soup.find_all('img')\n",
    "print(img)"
   ]
  },
  {
   "cell_type": "code",
   "execution_count": 23,
   "metadata": {},
   "outputs": [
    {
     "name": "stdout",
     "output_type": "stream",
     "text": [
      "images/favicon.png\n",
      "images/gallery-img-01.jpg\n",
      "images/gallery-img-02.JPG\n",
      "images/gallery-img-03.JPG\n",
      "images/gallery-img-04.JPG\n",
      "images/gallery-img-05.JPG\n",
      "images/gallery-img-06.JPG\n",
      "images/gallery-img-07.jpg\n",
      "images/gallery-img-08.jpg\n",
      "images/gallery-img-09.jpg\n",
      "images/gallery-img-10.jpg\n",
      "images/gallery-img-11.jpg\n",
      "images/gallery-img-12.jpg\n",
      "images/gallery-img-13.jpeg\n"
     ]
    }
   ],
   "source": [
    "for yn in img:\n",
    "    print(yn['src'])"
   ]
  },
  {
   "cell_type": "code",
   "execution_count": 27,
   "metadata": {},
   "outputs": [
    {
     "name": "stdout",
     "output_type": "stream",
     "text": [
      "[<img alt=\"Nature\" class=\"img-fluid\" src=\"images/gallery-img-01.jpg\"/>, <img alt=\"Nature\" class=\"img-fluid\" src=\"images/gallery-img-02.JPG\"/>, <img alt=\"Nature\" class=\"img-fluid\" src=\"images/gallery-img-03.JPG\"/>, <img alt=\"Nature\" class=\"img-fluid\" src=\"images/gallery-img-04.JPG\"/>, <img alt=\"Nature\" class=\"img-fluid\" src=\"images/gallery-img-05.JPG\"/>, <img alt=\"Nature\" class=\"img-fluid\" src=\"images/gallery-img-06.JPG\"/>, <img alt=\"People\" class=\"img-fluid\" src=\"images/gallery-img-07.jpg\"/>, <img alt=\"People\" class=\"img-fluid\" src=\"images/gallery-img-08.jpg\"/>, <img alt=\"People\" class=\"img-fluid\" src=\"images/gallery-img-09.jpg\"/>, <img alt=\"People\" class=\"img-fluid\" src=\"images/gallery-img-10.jpg\"/>, <img alt=\"People\" class=\"img-fluid\" src=\"images/gallery-img-11.jpg\"/>, <img alt=\"People\" class=\"img-fluid\" src=\"images/gallery-img-12.jpg\"/>]\n"
     ]
    }
   ],
   "source": [
    "jpg = soup.find_all('img',{'src':re.compile('.*\\.jpg',re.I)})\n",
    "print(jpg)"
   ]
  },
  {
   "cell_type": "code",
   "execution_count": 28,
   "metadata": {},
   "outputs": [
    {
     "name": "stdout",
     "output_type": "stream",
     "text": [
      "images/gallery-img-01.jpg\n",
      "images/gallery-img-02.JPG\n",
      "images/gallery-img-03.JPG\n",
      "images/gallery-img-04.JPG\n",
      "images/gallery-img-05.JPG\n",
      "images/gallery-img-06.JPG\n",
      "images/gallery-img-07.jpg\n",
      "images/gallery-img-08.jpg\n",
      "images/gallery-img-09.jpg\n",
      "images/gallery-img-10.jpg\n",
      "images/gallery-img-11.jpg\n",
      "images/gallery-img-12.jpg\n"
     ]
    }
   ],
   "source": [
    "for czj in jpg:\n",
    "    print(czj['src'])"
   ]
  },
  {
   "cell_type": "markdown",
   "metadata": {},
   "source": [
    "#  图片爬取实战 "
   ]
  },
  {
   "cell_type": "code",
   "execution_count": 29,
   "metadata": {},
   "outputs": [],
   "source": [
    "from urllib.request import urlopen\n",
    "from bs4 import BeautifulSoup"
   ]
  },
  {
   "cell_type": "code",
   "execution_count": 30,
   "metadata": {},
   "outputs": [],
   "source": [
    "url = 'https://www.yinkuan.club/index_photo.html'\n",
    "html = urlopen(url).read().decode('utf-8')\n",
    "soup = BeautifulSoup(html,'lxml')"
   ]
  },
  {
   "cell_type": "code",
   "execution_count": 43,
   "metadata": {},
   "outputs": [
    {
     "name": "stdout",
     "output_type": "stream",
     "text": [
      "[<img src=\"images/favicon.png\"/>, <img alt=\"Nature\" class=\"img-fluid\" src=\"images/gallery-img-01.jpg\"/>, <img alt=\"Nature\" class=\"img-fluid\" src=\"images/gallery-img-02.JPG\"/>, <img alt=\"Nature\" class=\"img-fluid\" src=\"images/gallery-img-03.JPG\"/>, <img alt=\"Nature\" class=\"img-fluid\" src=\"images/gallery-img-04.JPG\"/>, <img alt=\"Nature\" class=\"img-fluid\" src=\"images/gallery-img-05.JPG\"/>, <img alt=\"Nature\" class=\"img-fluid\" src=\"images/gallery-img-06.JPG\"/>, <img alt=\"People\" class=\"img-fluid\" src=\"images/gallery-img-07.jpg\"/>, <img alt=\"People\" class=\"img-fluid\" src=\"images/gallery-img-08.jpg\"/>, <img alt=\"People\" class=\"img-fluid\" src=\"images/gallery-img-09.jpg\"/>, <img alt=\"People\" class=\"img-fluid\" src=\"images/gallery-img-10.jpg\"/>, <img alt=\"People\" class=\"img-fluid\" src=\"images/gallery-img-11.jpg\"/>, <img alt=\"People\" class=\"img-fluid\" src=\"images/gallery-img-12.jpg\"/>, <img alt=\"Computer\" class=\"img-fluid\" src=\"images/gallery-img-13.jpeg\"/>]\n",
      "images/favicon.png\n",
      "images/gallery-img-01.jpg\n",
      "images/gallery-img-02.JPG\n",
      "images/gallery-img-03.JPG\n",
      "images/gallery-img-04.JPG\n",
      "images/gallery-img-05.JPG\n",
      "images/gallery-img-06.JPG\n",
      "images/gallery-img-07.jpg\n",
      "images/gallery-img-08.jpg\n",
      "images/gallery-img-09.jpg\n",
      "images/gallery-img-10.jpg\n",
      "images/gallery-img-11.jpg\n",
      "images/gallery-img-12.jpg\n",
      "images/gallery-img-13.jpeg\n"
     ]
    }
   ],
   "source": [
    "img = soup.find_all('img')\n",
    "print(img)\n",
    "for i in img:\n",
    "    print(i['src'])"
   ]
  },
  {
   "cell_type": "code",
   "execution_count": 47,
   "metadata": {},
   "outputs": [
    {
     "name": "stdout",
     "output_type": "stream",
     "text": [
      "成功下载图片：favicon.png\n",
      "成功下载图片：gallery-img-01.jpg\n",
      "成功下载图片：gallery-img-02.JPG\n",
      "成功下载图片：gallery-img-03.JPG\n",
      "成功下载图片：gallery-img-04.JPG\n",
      "成功下载图片：gallery-img-05.JPG\n",
      "成功下载图片：gallery-img-06.JPG\n",
      "成功下载图片：gallery-img-07.jpg\n",
      "成功下载图片：gallery-img-08.jpg\n",
      "成功下载图片：gallery-img-09.jpg\n",
      "成功下载图片：gallery-img-10.jpg\n",
      "成功下载图片：gallery-img-11.jpg\n",
      "成功下载图片：gallery-img-12.jpg\n",
      "成功下载图片：gallery-img-13.jpeg\n"
     ]
    }
   ],
   "source": [
    "from urllib.request import urlretrieve\n",
    "import os\n",
    "os.makedirs('./wlw34/',exist_ok = True)\n",
    "main_url = 'https://www.yinkuan.club/'\n",
    "\n",
    "for mdw in img:\n",
    "    img_url = mdw['src']\n",
    "    save_name = img_url.split('/')[-1]\n",
    "    real_url = main_url + img_url\n",
    "    urlretrieve(real_url,'./wlw34/%s'%save_name)\n",
    "    print(\"成功下载图片：%s\"%save_name)"
   ]
  },
  {
   "cell_type": "markdown",
   "metadata": {},
   "source": [
    "#  爬取表格\n"
   ]
  },
  {
   "cell_type": "code",
   "execution_count": null,
   "metadata": {},
   "outputs": [],
   "source": [
    "from urllib.request import urlopen\n",
    "from bs4 import Beautiful\n",
    "import os"
   ]
  },
  {
   "cell_type": "code",
   "execution_count": 49,
   "metadata": {},
   "outputs": [],
   "source": [
    "url ='http://www.gaosan.com/gaokao/259180.html'\n",
    "html = urlopen(url).read().decode('utf-8')\n",
    "soup =  BeautifulSoup(html,'lxml')\n",
    "# print(soup)"
   ]
  },
  {
   "cell_type": "code",
   "execution_count": 52,
   "metadata": {},
   "outputs": [],
   "source": [
    "table = soup.find_all('table')\n",
    "print(table)"
   ]
  },
  {
   "cell_type": "code",
   "execution_count": null,
   "metadata": {},
   "outputs": [],
   "source": []
  }
 ],
 "metadata": {
  "kernelspec": {
   "display_name": "Python 3",
   "language": "python",
   "name": "python3"
  },
  "language_info": {
   "codemirror_mode": {
    "name": "ipython",
    "version": 3
   },
   "file_extension": ".py",
   "mimetype": "text/x-python",
   "name": "python",
   "nbconvert_exporter": "python",
   "pygments_lexer": "ipython3",
   "version": "3.7.4"
  }
 },
 "nbformat": 4,
 "nbformat_minor": 2
}
