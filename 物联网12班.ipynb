{
 "cells": [
  {
   "cell_type": "code",
   "execution_count": 9,
   "metadata": {},
   "outputs": [],
   "source": [
    "from urllib.request import urlopen\n",
    "import webbrowser"
   ]
  },
  {
   "cell_type": "code",
   "execution_count": 12,
   "metadata": {},
   "outputs": [
    {
     "name": "stdout",
     "output_type": "stream",
     "text": [
      "<class 'str'>\n"
     ]
    }
   ],
   "source": [
    "url = 'http://www.yinkuan.club'\n",
    "html = urlopen(url).read().decode('utf-8')\n",
    "# webbrowser.open(url)\n",
    "print(type(html))"
   ]
  },
  {
   "cell_type": "code",
   "execution_count": 15,
   "metadata": {},
   "outputs": [
    {
     "name": "stdout",
     "output_type": "stream",
     "text": [
      "['尹宽的个人主页|简历']\n"
     ]
    }
   ],
   "source": [
    "import re\n",
    "title = re.findall(r'<title>(.+?)</title>',html)\n",
    "print(title)"
   ]
  },
  {
   "cell_type": "code",
   "execution_count": 16,
   "metadata": {},
   "outputs": [
    {
     "name": "stdout",
     "output_type": "stream",
     "text": [
      "['主要研究方向为人工智能、计算机视觉、深度学习、机器学习', '发表学术论文三篇，均为中文核心期刊，一篇被EI收录', '申请软件著作权五项', '主修专业测绘工程，进行大地测量、摄影测量、遥感等专业知识学习，熟悉GPS、GIS、RS相关技术', '2019-2020 yinkuan.top 版权所有 &mdash;ICP证: <a href=\"http://www.beian.miit.gov.cn\">渝ICP备19007783号</a> ']\n"
     ]
    }
   ],
   "source": [
    "p = re.findall(r'<p>(.+?)</p>',html)\n",
    "print(p)"
   ]
  },
  {
   "cell_type": "code",
   "execution_count": 17,
   "metadata": {},
   "outputs": [],
   "source": [
    "from bs4 import BeautifulSoup"
   ]
  },
  {
   "cell_type": "code",
   "execution_count": 23,
   "metadata": {},
   "outputs": [
    {
     "name": "stdout",
     "output_type": "stream",
     "text": [
      "[<a href=\"mailto:yinkuan0926@126.com\"><i class=\"far fa-envelope fa-fw mr-2\" data-fa-transform=\"grow-3\"></i>yinkuan0926@126.com</a>, <a href=\"#\"><i class=\"fas fa-mobile-alt fa-fw mr-2\" data-fa-transform=\"grow-6\"></i>17381580926</a>, <a href=\"https://www.linkedin.com/in/%E5%AE%BD-%E5%B0%B9-584305189/\" target=\"_blank\"><span class=\"fa-container text-center mr-2\"><i class=\"fab fa-linkedin-in fa-fw\"></i></span>我的领英</a>, <a href=\"#\" id=\"main\"><span class=\"fa-container text-center mr-2\"><i class=\"fab fa-weixin fa-fw\"></i></span>微信</a>, <a href=\"https://weibo.com/u/1584540592\" target=\"_blank\"><span class=\"fa-container text-center mr-2\"><i class=\"fab fa-weibo fa-fw\"></i></span>我的微博</a>, <a href=\"index_photo.html\" target=\"_blank\"><span class=\"fa-container text-center mr-2\"><i class=\"fas fa-globe\"></i></span>我的照片</a>, <a href=\"http://www.cssmoban.com/\" title=\"网站模板\">网站模板</a>, <a href=\"http://www.beian.miit.gov.cn\">渝ICP备19007783号</a>]\n"
     ]
    }
   ],
   "source": [
    "soup = BeautifulSoup(html,'lxml')\n",
    "\n",
    "print(soup.find_all('a'))"
   ]
  },
  {
   "cell_type": "code",
   "execution_count": 24,
   "metadata": {},
   "outputs": [
    {
     "name": "stdout",
     "output_type": "stream",
     "text": [
      "mailto:yinkuan0926@126.com\n",
      "#\n",
      "https://www.linkedin.com/in/%E5%AE%BD-%E5%B0%B9-584305189/\n",
      "#\n",
      "https://weibo.com/u/1584540592\n",
      "index_photo.html\n",
      "http://www.cssmoban.com/\n",
      "http://www.beian.miit.gov.cn\n"
     ]
    }
   ],
   "source": [
    "for l in soup.find_all('a'):\n",
    "    print(l['href'])"
   ]
  },
  {
   "cell_type": "code",
   "execution_count": 26,
   "metadata": {},
   "outputs": [
    {
     "name": "stdout",
     "output_type": "stream",
     "text": [
      "[<li class=\"dd\">物联网一班</li>, <li class=\"dd\">物联网二班</li>, <li class=\"dd\">物联网三班</li>, <li class=\"dd\">物联网四班</li>, <li class=\"dy\">远景计算机</li>, <li class=\"dy\">远景软件</li>]\n"
     ]
    }
   ],
   "source": [
    "url = 'https://www.yinkuan.club/bigdata.html'\n",
    "html = urlopen(url).read().decode('utf-8')\n",
    "soup = BeautifulSoup(html)\n",
    "bj = soup.find_all('li')\n",
    "print(bj)"
   ]
  },
  {
   "cell_type": "code",
   "execution_count": 27,
   "metadata": {},
   "outputs": [
    {
     "name": "stdout",
     "output_type": "stream",
     "text": [
      "[<li class=\"dd\">物联网一班</li>, <li class=\"dd\">物联网二班</li>, <li class=\"dd\">物联网三班</li>, <li class=\"dd\">物联网四班</li>]\n"
     ]
    }
   ],
   "source": [
    "wlw = soup.find_all('li',{'class':'dd'})\n",
    "print(wlw)"
   ]
  },
  {
   "cell_type": "code",
   "execution_count": 28,
   "metadata": {},
   "outputs": [
    {
     "name": "stdout",
     "output_type": "stream",
     "text": [
      "物联网一班\n",
      "物联网二班\n",
      "物联网三班\n",
      "物联网四班\n"
     ]
    }
   ],
   "source": [
    "for l in wlw:\n",
    "    print(l.get_text())"
   ]
  },
  {
   "cell_type": "markdown",
   "metadata": {},
   "source": [
    "# 正则表达式查找特定内容 "
   ]
  },
  {
   "cell_type": "code",
   "execution_count": 1,
   "metadata": {},
   "outputs": [],
   "source": [
    "from urllib.request import urlopen\n",
    "from bs4 import BeautifulSoup\n",
    "import re"
   ]
  },
  {
   "cell_type": "code",
   "execution_count": 11,
   "metadata": {},
   "outputs": [],
   "source": [
    "url = 'https://www.yinkuan.club/index_photo.html'\n",
    "html = urlopen(url).read().decode('utf-8')\n",
    "soup = BeautifulSoup(html,'lxml')\n",
    "# print(soup)"
   ]
  },
  {
   "cell_type": "code",
   "execution_count": 12,
   "metadata": {},
   "outputs": [
    {
     "name": "stdout",
     "output_type": "stream",
     "text": [
      "[<img src=\"images/favicon.png\"/>, <img alt=\"Nature\" class=\"img-fluid\" src=\"images/gallery-img-01.jpg\"/>, <img alt=\"Nature\" class=\"img-fluid\" src=\"images/gallery-img-02.JPG\"/>, <img alt=\"Nature\" class=\"img-fluid\" src=\"images/gallery-img-03.JPG\"/>, <img alt=\"Nature\" class=\"img-fluid\" src=\"images/gallery-img-04.JPG\"/>, <img alt=\"Nature\" class=\"img-fluid\" src=\"images/gallery-img-05.JPG\"/>, <img alt=\"Nature\" class=\"img-fluid\" src=\"images/gallery-img-06.JPG\"/>, <img alt=\"People\" class=\"img-fluid\" src=\"images/gallery-img-07.jpg\"/>, <img alt=\"People\" class=\"img-fluid\" src=\"images/gallery-img-08.jpg\"/>, <img alt=\"People\" class=\"img-fluid\" src=\"images/gallery-img-09.jpg\"/>, <img alt=\"People\" class=\"img-fluid\" src=\"images/gallery-img-10.jpg\"/>, <img alt=\"People\" class=\"img-fluid\" src=\"images/gallery-img-11.jpg\"/>, <img alt=\"People\" class=\"img-fluid\" src=\"images/gallery-img-12.jpg\"/>, <img alt=\"Computer\" class=\"img-fluid\" src=\"images/gallery-img-13.jpeg\"/>]\n"
     ]
    }
   ],
   "source": [
    "img = soup.find_all('img')\n",
    "print(img)"
   ]
  },
  {
   "cell_type": "code",
   "execution_count": 13,
   "metadata": {},
   "outputs": [
    {
     "name": "stdout",
     "output_type": "stream",
     "text": [
      "images/favicon.png\n",
      "images/gallery-img-01.jpg\n",
      "images/gallery-img-02.JPG\n",
      "images/gallery-img-03.JPG\n",
      "images/gallery-img-04.JPG\n",
      "images/gallery-img-05.JPG\n",
      "images/gallery-img-06.JPG\n",
      "images/gallery-img-07.jpg\n",
      "images/gallery-img-08.jpg\n",
      "images/gallery-img-09.jpg\n",
      "images/gallery-img-10.jpg\n",
      "images/gallery-img-11.jpg\n",
      "images/gallery-img-12.jpg\n",
      "images/gallery-img-13.jpeg\n"
     ]
    }
   ],
   "source": [
    "for lsx in img:\n",
    "    print(lsx['src'])"
   ]
  },
  {
   "cell_type": "code",
   "execution_count": 10,
   "metadata": {},
   "outputs": [
    {
     "name": "stdout",
     "output_type": "stream",
     "text": [
      "[<img alt=\"Nature\" class=\"img-fluid\" src=\"images/gallery-img-01.jpg\"/>, <img alt=\"Nature\" class=\"img-fluid\" src=\"images/gallery-img-02.JPG\"/>, <img alt=\"Nature\" class=\"img-fluid\" src=\"images/gallery-img-03.JPG\"/>, <img alt=\"Nature\" class=\"img-fluid\" src=\"images/gallery-img-04.JPG\"/>, <img alt=\"Nature\" class=\"img-fluid\" src=\"images/gallery-img-05.JPG\"/>, <img alt=\"Nature\" class=\"img-fluid\" src=\"images/gallery-img-06.JPG\"/>, <img alt=\"People\" class=\"img-fluid\" src=\"images/gallery-img-07.jpg\"/>, <img alt=\"People\" class=\"img-fluid\" src=\"images/gallery-img-08.jpg\"/>, <img alt=\"People\" class=\"img-fluid\" src=\"images/gallery-img-09.jpg\"/>, <img alt=\"People\" class=\"img-fluid\" src=\"images/gallery-img-10.jpg\"/>, <img alt=\"People\" class=\"img-fluid\" src=\"images/gallery-img-11.jpg\"/>, <img alt=\"People\" class=\"img-fluid\" src=\"images/gallery-img-12.jpg\"/>]\n",
      "images/gallery-img-01.jpg\n",
      "images/gallery-img-02.JPG\n",
      "images/gallery-img-03.JPG\n",
      "images/gallery-img-04.JPG\n",
      "images/gallery-img-05.JPG\n",
      "images/gallery-img-06.JPG\n",
      "images/gallery-img-07.jpg\n",
      "images/gallery-img-08.jpg\n",
      "images/gallery-img-09.jpg\n",
      "images/gallery-img-10.jpg\n",
      "images/gallery-img-11.jpg\n",
      "images/gallery-img-12.jpg\n"
     ]
    }
   ],
   "source": [
    "img1 = soup.find_all('img',{'src':re.compile('.*\\.jpg',re.I)})\n",
    "print(img1)\n",
    "for zlc in img1:\n",
    "    print(zlc['src'])"
   ]
  },
  {
   "cell_type": "markdown",
   "metadata": {},
   "source": [
    "# 下载图片示例 "
   ]
  },
  {
   "cell_type": "code",
   "execution_count": 14,
   "metadata": {},
   "outputs": [],
   "source": [
    "from urllib.request import urlopen\n",
    "from bs4 import BeautifulSoup\n"
   ]
  },
  {
   "cell_type": "markdown",
   "metadata": {},
   "source": [
    "###  读取网页并处理成beautifulsoup格式"
   ]
  },
  {
   "cell_type": "markdown",
   "metadata": {},
   "source": [
    "url = 'https://www.yinkuan.club/index_photo.html'\n",
    "html = urlopen(url).read().decode('utf-8')\n",
    "soup = BeautifulSoup(html,'lxml')\n",
    "print(soup)"
   ]
  },
  {
   "cell_type": "code",
   "execution_count": 21,
   "metadata": {},
   "outputs": [
    {
     "name": "stdout",
     "output_type": "stream",
     "text": [
      "[<img src=\"images/favicon.png\"/>, <img alt=\"Nature\" class=\"img-fluid\" src=\"images/gallery-img-01.jpg\"/>, <img alt=\"Nature\" class=\"img-fluid\" src=\"images/gallery-img-02.JPG\"/>, <img alt=\"Nature\" class=\"img-fluid\" src=\"images/gallery-img-03.JPG\"/>, <img alt=\"Nature\" class=\"img-fluid\" src=\"images/gallery-img-04.JPG\"/>, <img alt=\"Nature\" class=\"img-fluid\" src=\"images/gallery-img-05.JPG\"/>, <img alt=\"Nature\" class=\"img-fluid\" src=\"images/gallery-img-06.JPG\"/>, <img alt=\"People\" class=\"img-fluid\" src=\"images/gallery-img-07.jpg\"/>, <img alt=\"People\" class=\"img-fluid\" src=\"images/gallery-img-08.jpg\"/>, <img alt=\"People\" class=\"img-fluid\" src=\"images/gallery-img-09.jpg\"/>, <img alt=\"People\" class=\"img-fluid\" src=\"images/gallery-img-10.jpg\"/>, <img alt=\"People\" class=\"img-fluid\" src=\"images/gallery-img-11.jpg\"/>, <img alt=\"People\" class=\"img-fluid\" src=\"images/gallery-img-12.jpg\"/>, <img alt=\"Computer\" class=\"img-fluid\" src=\"images/gallery-img-13.jpeg\"/>]\n"
     ]
    }
   ],
   "source": [
    "img = soup.find_all('img')\n",
    "main_url = 'https://www.yinkuan.club/'\n",
    "print(img)"
   ]
  },
  {
   "cell_type": "code",
   "execution_count": 33,
   "metadata": {},
   "outputs": [
    {
     "name": "stdout",
     "output_type": "stream",
     "text": [
      "成功下载图片：favicon.png\n",
      "成功下载图片：gallery-img-01.jpg\n",
      "成功下载图片：gallery-img-02.JPG\n",
      "成功下载图片：gallery-img-03.JPG\n",
      "成功下载图片：gallery-img-04.JPG\n",
      "成功下载图片：gallery-img-05.JPG\n",
      "成功下载图片：gallery-img-06.JPG\n",
      "成功下载图片：gallery-img-07.jpg\n",
      "成功下载图片：gallery-img-08.jpg\n",
      "成功下载图片：gallery-img-09.jpg\n",
      "成功下载图片：gallery-img-10.jpg\n",
      "成功下载图片：gallery-img-11.jpg\n",
      "成功下载图片：gallery-img-12.jpg\n",
      "成功下载图片：gallery-img-13.jpeg\n"
     ]
    }
   ],
   "source": [
    "from urllib.request import urlretrieve\n",
    "import os\n",
    "os.makedirs('./wlw12/',exist_ok = True)\n",
    "\n",
    "for zm in img:\n",
    "    img_url = zm['src']\n",
    "    real_url = main_url+img_url\n",
    "    \n",
    "    img_name = img_url.split('/')[-1]\n",
    "    \n",
    "    urlretrieve(real_url,'./wlw12/%s'%img_name)\n",
    "\n",
    "    \n",
    "    print('成功下载图片：%s'%img_name)\n",
    "    "
   ]
  },
  {
   "cell_type": "markdown",
   "metadata": {},
   "source": [
    "#  下载表格数据"
   ]
  },
  {
   "cell_type": "code",
   "execution_count": 35,
   "metadata": {},
   "outputs": [
    {
     "name": "stdout",
     "output_type": "stream",
     "text": [
      "<!DOCTYPE html PUBLIC \"-//W3C//DTD XHTML 1.0 Transitional//EN\" \"http://www.w3.org/TR/xhtml1/DTD/xhtml1-transitional.dtd\">\n",
      "<html xmlns=\"http://www.w3.org/1999/xhtml\"><head> <meta content=\"text/html; charset=utf-8\" http-equiv=\"Content-Type\"/> <title>计算机专业大学排名 2019计算机学校排行榜_高三网</title> <meta content=\"计算机专业大学排名\" name=\"keywords\"/> <meta content=\"计算机学科的特色主要体现在：理论性强，实践性强，发展迅速。其中计算机专业最好的大学有清华大学、浙江大学、北京邮电大学、南京大学、电子科技大学等。\" name=\"description\"/> <meta content=\"format=html5;url=http://m.gaosan.com/gaokao/250582.html\" name=\"mobile-agent\"/> <meta content=\"format=xhtml;url=http://m.gaosan.com/gaokao/250582.html\" name=\"mobile-agent\"/> <meta content=\"format=wml; url=http://m.gaosan.com/gaokao/250582.html\" name=\"mobile-agent\"/> <link href=\"/css/css.css\" rel=\"stylesheet\" type=\"text/css\"/> <script src=\"/js/t.js\" type=\"text/javascript\"></script></head><body> <div class=\"top_warp\"><div class=\"top_warp_nav\"><a href=\"/\"><img alt=\"高三网\" height=\"40\" src=\"/img/logo.png\" width=\"129\"/></a><ul><li><a href=\"/gaokaozixun/\"><span class=\"ia\">资讯</span></a></li><li><a href=\"/gaokaofuxi/\"><span class=\"ib\">学习</span></a></li><li><a href=\"/zhukao/\"><span class=\"ic\">助考</span></a></li><li><a href=\"/gaokaozhiyuan/\"><span class=\"ic\">报考</span></a></li><li><a href=\"/zhaosheng/\"><span class=\"ic\">招生</span></a></li><li><a href=\"/wenwen/\"><span class=\"ie\">问答</span></a></li></ul><b class=\"b_css w\"><a href=\"/gaokaoshiti/\" target=\"_blank\"><i class=\"if\"></i> 试题库 </a></b><b class=\"e\"><a href=\"/gaokaozuowen/\" target=\"_blank\"><i class=\"ij\"></i> 作文库 </a></b><b class=\"s\"><a href=\"/daxuejieshao/\" target=\"_blank\"><i class=\"ig\"></i> 大学库 </a></b><b class=\"q mrr\"><a href=\"/zhuanyejiedu/\" target=\"_blank\"><i class=\"ii\"></i> 专业库</a></b><div id=\"nologin\"><b class=\"ih\"></b><div class=\"nologin\"><a id=\"login\">登录 </a>| <a id=\"reg\">注册</a></div></div><div id=\"haslogin\"></div></div></div><div class=\"nav\"><ul> <a class=\"cur\" href=\"/\">高考首页</a> <span>挑大学</span><a href=\"/daxuejieshao/\" target=\"_self\">大学介绍</a><a href=\"/gaoxiaomingdan/\" target=\"_self\">高校名单</a><a href=\"/daxuepaiming/\" target=\"_self\">大学排名</a><span>选专业</span><a href=\"/zhuanyejiedu/\" target=\"_self\">专业解读</a><a href=\"#\" target=\"_self\" title=\"正在建设中\">专业目录</a><a class=\"cur\" href=\"/zhuanyepaiming/\" target=\"_self\">专业排名</a><span>填志愿</span><a href=\"/gaokaozhiyuan/\" target=\"_self\">志愿填报</a><a href=\"/tianbaozhidao/\" target=\"_self\">填报指南</a></ul></div><div class=\"current\"><p>当前位置：<a href=\"/\"> 高三网</a> &gt; <a href=\"/zhuanyepaiming/\" target=\"_blank\">大学专业排名</a> &gt; 正文</p><div class=\"search\"><input autocomplete=\"off\" class=\"search_input\" name=\"keywords\" onkeypress=\"getKey()\" placeholder=\"请输入关键词\" type=\"text\"/><input class=\"search_annv\" name=\"q\" onclick=\"baidusearch()\" type=\"button\"/></div></div><div class=\"content\"><div class=\"c_left\"><div class=\"left d\"><h1>计算机专业大学排名 2019计算机学校排行榜</h1><span class=\"sound\"><b>2019-07-05 09:11:59</b><b>文/刘美娟</b></span> <div class=\"fot_wen\" id=\"NoQuality\"> <script>content_CommendTop()</script></div> <div id=\"data250582\"><p>计算机学科的特色主要体现在：理论性强，实践性强，发展迅速。其中计算机专业最好的大学有清华大学、浙江大学、北京邮电大学、南京大学、电子科技大学等。</p><p style=\"text-align:center\"><img alt=\"计算机专业大学排名 2019计算机学校排行榜\" border=\"0\" height=\"406\" name=\"editorImg\" src=\"http://img.gaosan.com/upload/201907/20190705090700589.jpg\" style=\"width: 610px; height: 406px;\" title=\"计算机专业大学排名 2019计算机学校排行榜\" vspace=\"0\" width=\"610\"/></p><h2>2019年计算机专业大学排名</h2><table border=\"1\"><tbody><tr class=\"firstRow\"><td>序号</td><td>学校名称</td><td>评估结果</td></tr><tr><td>1</td><td>北京大学</td><td>A+</td></tr><tr><td>2</td><td>清华大学</td><td>A+</td></tr><tr><td>3</td><td>浙江大学</td><td>A+</td></tr><tr><td>4</td><td>国防科技大学</td><td>A+</td></tr><tr><td>5</td><td>北京航空航天大学</td><td>A</td></tr><tr><td>6</td><td>北京邮电大学</td><td>A</td></tr><tr><td>7</td><td>哈尔滨工业大学</td><td>A</td></tr><tr><td>8</td><td>上海交通大学</td><td>A</td></tr><tr><td>9</td><td>南京大学</td><td>A</td></tr><tr><td>10</td><td>华中科技大学</td><td>A</td></tr><tr><td>11</td><td>电子科技大学</td><td>A</td></tr><tr><td>12</td><td>北京交通大学</td><td>A-</td></tr><tr><td>13</td><td>北京理工大学</td><td>A-</td></tr><tr><td>14</td><td>东北大学</td><td>A-</td></tr><tr><td>15</td><td>吉林大学</td><td>A-</td></tr><tr><td>16</td><td>同济大学</td><td>A-</td></tr><tr><td>17</td><td>中国科学技术大学</td><td>A-</td></tr><tr><td>18</td><td>武汉大学</td><td>A-</td></tr><tr><td>19</td><td>中南大学</td><td>A-</td></tr><tr><td>20</td><td>西安交通大学</td><td>A-</td></tr><tr><td>21</td><td>西北工业大学</td><td>A-</td></tr><tr><td>22</td><td>西安电子科技大学</td><td>A-</td></tr><tr><td>23</td><td>解放军信息工程大学</td><td>A-</td></tr><tr><td>24</td><td>中国人民大学</td><td>B+</td></tr><tr><td>25</td><td>北京工业大学</td><td>B+</td></tr><tr><td>26</td><td>北京科技大学</td><td>B+</td></tr><tr><td>27</td><td>南开大学</td><td>B+</td></tr><tr><td>28</td><td>天津大学</td><td>B+</td></tr><tr><td>29</td><td>大连理工大学</td><td>B+</td></tr><tr><td>30</td><td>哈尔滨工程大学</td><td>B+</td></tr><tr><td>31</td><td>复旦大学</td><td>B+</td></tr><tr><td>32</td><td>华东师范大学</td><td>B+</td></tr><tr><td>33</td><td>东南大学</td><td>B+</td></tr><tr><td>34</td><td>南京航空航天大学</td><td>B+</td></tr><tr><td>35</td><td>南京理工大学</td><td>B+</td></tr><tr><td>36</td><td>杭州电子科技大学</td><td>B+</td></tr><tr><td>37</td><td>合肥工业大学</td><td>B+</td></tr><tr><td>38</td><td>厦门大学</td><td>B+</td></tr><tr><td>39</td><td>山东大学</td><td>B+</td></tr><tr><td>40</td><td>湖南大学</td><td>B+</td></tr><tr><td>41</td><td>中山大学</td><td>B+</td></tr><tr><td>42</td><td>华南理工大学</td><td>B+</td></tr><tr><td>43</td><td>四川大学</td><td>B+</td></tr><tr><td>44</td><td>重庆大学</td><td>B+</td></tr><tr><td>45</td><td>西南交通大学</td><td>B+</td></tr><tr><td>46</td><td>重庆邮电大学</td><td>B+</td></tr><tr><td>47</td><td>解放军理工大学</td><td>B+</td></tr><tr><td>48</td><td>北京师范大学</td><td>B</td></tr><tr><td>49</td><td>天津理工大学</td><td>B</td></tr><tr><td>50</td><td>山西大学</td><td>B</td></tr><tr><td>51</td><td>河北工业大学</td><td>C+</td></tr><tr><td>52</td><td>沈阳建筑大学</td><td>C+</td></tr><tr><td>53</td><td>辽宁师范大学</td><td>C+</td></tr><tr><td>54</td><td>上海理工大学</td><td>C+</td></tr><tr><td>55</td><td>上海海洋大学</td><td>C+</td></tr><tr><td>56</td><td>常州大学</td><td>C+</td></tr><tr><td>57</td><td>浙江理工大学</td><td>C+</td></tr><tr><td>58</td><td>浙江师范大学</td><td>C+</td></tr><tr><td>59</td><td>温州大学</td><td>C+</td></tr><tr><td>60</td><td>福建师范大学</td><td>C+</td></tr><tr><td>61</td><td>南昌大学</td><td>C+</td></tr><tr><td>62</td><td>郑州大学</td><td>C+</td></tr><tr><td>63</td><td>武汉科技大学</td><td>C+</td></tr><tr><td>64</td><td>湖南科技大学</td><td>C+</td></tr><tr><td>65</td><td>广西师范大学</td><td>C+</td></tr><tr><td>66</td><td>成都信息工程大学</td><td>C+</td></tr><tr><td>67</td><td>贵州大学</td><td>C+</td></tr><tr><td>68</td><td>昆明理工大学</td><td>C+</td></tr><tr><td>69</td><td>长安大学</td><td>C+</td></tr><tr><td>70</td><td>青岛大学</td><td>C+</td></tr><tr><td>71</td><td>西安邮电大学</td><td>C+</td></tr><tr><td>72</td><td>北京工商大学</td><td>C</td></tr><tr><td>73</td><td>河北工程大学</td><td>C</td></tr><tr><td>74</td><td>石家庄铁道大学</td><td>C</td></tr><tr><td>75</td><td>中北大学</td><td>C</td></tr><tr><td>76</td><td>东北电力大学</td><td>C</td></tr><tr><td>77</td><td>长春工业大学</td><td>C</td></tr><tr><td>78</td><td>上海师范大学</td><td>C</td></tr><tr><td>79</td><td>安徽工业大学</td><td>C</td></tr><tr><td>80</td><td>江西师范大学</td><td>C</td></tr><tr><td>81</td><td>山东财经大学</td><td>C</td></tr><tr><td>82</td><td>河南理工大学</td><td>C</td></tr><tr><td>83</td><td>郑州轻工业学院</td><td>C</td></tr><tr><td>84</td><td>湘潭大学</td><td>C</td></tr><tr><td>85</td><td>华南农业大学</td><td>C</td></tr><tr><td>86</td><td>西安理工大学</td><td>C</td></tr><tr><td>87</td><td>西安工业大学</td><td>C</td></tr><tr><td>88</td><td>西北农林科技大学</td><td>C</td></tr><tr><td>89</td><td>三峡大学</td><td>C</td></tr><tr><td>90</td><td>扬州大学</td><td>C</td></tr><tr><td>91</td><td>大连大学</td><td>C</td></tr><tr><td>92</td><td>广东工业大学</td><td>C</td></tr><tr><td>93</td><td>中央民族大学</td><td>C-</td></tr><tr><td>94</td><td>沈阳理工大学</td><td>C-</td></tr><tr><td>95</td><td>黑龙江大学</td><td>C-</td></tr><tr><td>96</td><td>上海海事大学</td><td>C-</td></tr><tr><td>97</td><td>江苏科技大学</td><td>C-</td></tr><tr><td>98</td><td>华侨大学</td><td>C-</td></tr><tr><td>99</td><td>东华理工大学</td><td>C-</td></tr><tr><td>100</td><td>江西理工大学</td><td>C-</td></tr><tr><td>101</td><td>大连海事大学</td><td>B</td></tr><tr><td>102</td><td>长春理工大学</td><td>B</td></tr><tr><td>103</td><td>哈尔滨理工大学</td><td>B</td></tr><tr><td>104</td><td>燕山大学</td><td>B</td></tr><tr><td>105</td><td>华东理工大学</td><td>B</td></tr><tr><td>106</td><td>上海大学</td><td>B</td></tr><tr><td>107</td><td>苏州大学</td><td>B</td></tr><tr><td>108</td><td>中国矿业大学</td><td>B</td></tr><tr><td>109</td><td>河海大学</td><td>B</td></tr><tr><td>110</td><td>江苏大学</td><td>B</td></tr><tr><td>111</td><td>南京信息工程大学</td><td>B</td></tr><tr><td>112</td><td>浙江工业大学</td><td>B</td></tr><tr><td>113</td><td>安徽大学</td><td>B</td></tr><tr><td>114</td><td>中国海洋大学</td><td>B</td></tr><tr><td>115</td><td>中国地质大学</td><td>B</td></tr><tr><td>116</td><td>武汉理工大学</td><td>B</td></tr><tr><td>117</td><td>暨南大学</td><td>B</td></tr><tr><td>118</td><td>深圳大学</td><td>B</td></tr><tr><td>119</td><td>西南大学</td><td>B</td></tr><tr><td>120</td><td>兰州大学</td><td>B</td></tr><tr><td>121</td><td>火箭军工程大学</td><td>B</td></tr><tr><td>122</td><td>北方工业大学</td><td>B-</td></tr><tr><td>123</td><td>中国农业大学</td><td>B-</td></tr><tr><td>124</td><td>首都师范大学</td><td>B-</td></tr><tr><td>125</td><td>天津工业大学</td><td>B-</td></tr><tr><td>126</td><td>华北电力大学</td><td>B-</td></tr><tr><td>127</td><td>太原理工大学</td><td>B-</td></tr><tr><td>128</td><td>内蒙古大学</td><td>B-</td></tr><tr><td>129</td><td>沈阳航空航天大学</td><td>B-</td></tr><tr><td>130</td><td>东华大学</td><td>B-</td></tr><tr><td>131</td><td>南京邮电大学</td><td>B-</td></tr><tr><td>132</td><td>江南大学</td><td>B-</td></tr><tr><td>133</td><td>浙江工商大学</td><td>B-</td></tr><tr><td>134</td><td>福州大学</td><td>B-</td></tr><tr><td>135</td><td>山东科技大学</td><td>B-</td></tr><tr><td>136</td><td>济南大学</td><td>B-</td></tr><tr><td>137</td><td>华中师范大学</td><td>B-</td></tr><tr><td>138</td><td>广西大学</td><td>B-</td></tr><tr><td>139</td><td>桂林电子科技大学</td><td>B-</td></tr><tr><td>140</td><td>云南大学</td><td>B-</td></tr><tr><td>141</td><td>西北大学</td><td>B-</td></tr><tr><td>142</td><td>青海师范大学</td><td>B-</td></tr><tr><td>143</td><td>新疆大学</td><td>B-</td></tr><tr><td>144</td><td>中国石油大学</td><td>B-</td></tr><tr><td>145</td><td>空军工程大学</td><td>B-</td></tr><tr><td>146</td><td>北京化工大学</td><td>C+</td></tr><tr><td>147</td><td>北京语言大学</td><td>C+</td></tr><tr><td>148</td><td>中国传媒大学</td><td>C+</td></tr><tr><td>149</td><td>中国民航大学</td><td>C+</td></tr><tr><td>150</td><td>河北大学</td><td>C+</td></tr><tr><td>151</td><td>江西财经大学</td><td>C-</td></tr><tr><td>152</td><td>河南工业大学</td><td>C-</td></tr><tr><td>153</td><td>河南大学</td><td>C-</td></tr><tr><td>154</td><td>河南师范大学</td><td>C-</td></tr><tr><td>155</td><td>武汉工程大学</td><td>C-</td></tr><tr><td>156</td><td>武汉纺织大学</td><td>C-</td></tr><tr><td>157</td><td>湖北工业大学</td><td>C-</td></tr><tr><td>158</td><td>长沙理工大学</td><td>C-</td></tr><tr><td>159</td><td>海南大学</td><td>C-</td></tr><tr><td>160</td><td>桂林理工大学</td><td>C-</td></tr><tr><td>161</td><td>西南石油大学</td><td>C-</td></tr><tr><td>162</td><td>重庆交通大学</td><td>C-</td></tr><tr><td>163</td><td>西华大学</td><td>C-</td></tr><tr><td>164</td><td>西南财经大学</td><td>C-</td></tr><tr><td>165</td><td>西安石油大学</td><td>C-</td></tr><tr><td>166</td><td>北京信息科技大学</td><td>C-</td></tr><tr><td>167</td><td>湖南工业大学</td><td>C-</td></tr><tr><td>168</td><td>海军航空工程学院</td><td>C-</td></tr></tbody></table><h2>计算机专业就业前景怎么样</h2><p>市场经济的发展、计算机应用的家庭化、普及化，信息产业的规模化，推动了计算机技术人才市场的发展，特别是加入世贸组织以后，计算机应用人才更是供不应求。随着外包的发展，需求加大。</p><p>目前我国计算机专业主要分为三大类：计算机基础专业、与理工科交叉的计算机专业、与文科艺术类交叉的计算机专业。</p><p>计算机专业毕业生主要面向交通系统各单位、交通信息化与电子政务建设与应用部门、各类计算机专业化公司、广告设计制作公司、汽车营销技术服务等从事IT行业工作。</p></div><div class=\"btns_wrap\"><div class=\"bdsharebuttonbox bdshare-button-style2-24\" data-bd-bind=\"1445480406928\"><a style=\"background:0 0;font-size:16px;color:#444;width:55px;margin-top:13px;font-family:'微软雅黑'\">分享到</a><a class=\"bds_qzone\" data-cmd=\"qzone\" href=\"#\" name=\"bds_qzone\" title=\"分享到QQ空间\"></a><a class=\"bds_tsina\" data-cmd=\"tsina\" href=\"#\" name=\"bds_tsina\" title=\"分享到新浪微博\"></a><a class=\"bds_tqq\" data-cmd=\"tqq\" href=\"#\" name=\"bds_tqq\" title=\"分享到腾讯微博\"></a><a class=\"bds_sqq\" data-cmd=\"sqq\" href=\"#\" name=\"bds_sqq\" title=\"分享到QQ好友\"></a><a class=\"bds_weixin\" data-cmd=\"weixin\" href=\"#\" name=\"bds_weixin\" title=\"分享到微信\"></a></div></div></div><div class=\"left1 cont_border marginbottom\"><b class=\"b_width\"><i></i> 推荐阅读</b><div class=\"dl_div\"> <script>content_end_commend()</script></div></div><div class=\"left1 mulu_bg\"><ul id=\"Loading\" style=\"display:block\"><li><a href=\"/gaokao/245602.html\"><img height=\"132\" src=\"http://img.gaosan.com/upload/201905/20190521205419464.jpg\" width=\"176\"/><b>计算机专业都学什么</b><p>计算机专业需要学习的内容包括计算机应用基础、应用文...</p></a><i>2019-05-21</i></li><li><a href=\"/gaokao/227706.html\"><img height=\"132\" src=\"http://img.gaosan.com/upload/201809/6367288957949143205174233_small.jpg\" width=\"176\"/><b>计算机专业有哪些岗位 好就业吗</b><p>有很多的同学是非常想知道，计算机专业有哪些岗位，哪...</p></a><i>2018-09-18</i></li><li><a href=\"/gaokao/235027.html\"><img height=\"132\" src=\"http://img.gaosan.com/upload/201811/6367908851656669097058127_small.jpg\" width=\"176\"/><b>计算机专业到底怎么样 就业方向有哪些</b><p>现在报考计算机专业的人非常多，有些同学甚至是盲目的...</p></a><i>2018-11-29</i></li><li><a href=\"/gaokao/229477.html\"><img height=\"132\" src=\"http://img.gaosan.com/upload/201810/6367459271746623397006843_small.jpg\" width=\"176\"/><b>计算机专业难学吗 工资一般多少</b><p>我们都知道计算机相关专业发展前景都非常好，所以现在...</p></a><i>2018-10-08</i></li><li><a href=\"/gaokao/233949.html\"><img height=\"132\" src=\"http://img.gaosan.com/upload/201811/6367815578536460142755059_small.jpg\" width=\"176\"/><b>计算机专业就业前景 未来发展趋势好吗</b><p>计算机专业一直是人们口中的热门专业，那么，计算机专...</p></a><i>2018-11-18</i></li><li><a href=\"/gaokao/229599.html\"><img height=\"132\" src=\"http://img.gaosan.com/upload/201810/6367468092820131733272944_small.jpg\" width=\"176\"/><b>计算机专业大学排名 最新排行榜</b><p>有很多的同学是非常想知道，计算机专业大学排名情况是...</p></a><i>2018-10-09</i></li><li><a href=\"/gaokao/256355.html\"><img height=\"132\" src=\"http://img.gaosan.com/upload/201909/20190910111017917.jpg\" width=\"176\"/><b>2019计算机专业大学排名</b><p>计算机专业是指计算机硬件与软件相结合、面向系统、更...</p></a><i>2019-09-10</i></li><li><a href=\"/gaokao/230989.html\"><img height=\"132\" src=\"http://img.gaosan.com/upload/201810/6367590071932616693510591_small.jpg\" width=\"176\"/><b>计算机专业就业方向有哪些 薪资待遇好吗</b><p>一些学生想要报考计算机专业，那么，计算机专业就业方...</p></a><i>2018-10-23</i></li><li><a href=\"/gaokao/230156.html\"><img height=\"132\" src=\"http://img.gaosan.com/upload/peitu/custom/176128/1241.jpg\" width=\"176\"/><b>计算机专业就业方向 哪些人适合学计算机</b><p>每年都有很多人选择学习计算机专业，那么，计算机专业...</p></a><i>2018-10-15</i></li><li><a href=\"/gaokao/253731.html\"><img height=\"132\" src=\"http://img.gaosan.com/upload/201908/20190805141920585.jpg\" width=\"176\"/><b>计算机专业排名 一流计算机专业名校有哪些</b><p>计算机类专业是当下热门，也是未来的就业热点专业类别...</p></a><i>2019-08-05</i></li><li><a href=\"/gaokao/235415.html\"><img height=\"132\" src=\"http://img.gaosan.com/upload/201812/6367935293019806337321893_small.jpg\" width=\"176\"/><b>计算机专业课程安排 要掌握哪些技能</b><p>每年都有很多人选择报考计算机专业，那么，计算机专业...</p></a><i>2018-12-02</i></li><li><a href=\"/gaokao/234564.html\"><img height=\"132\" src=\"http://img.gaosan.com/upload/201811/6367858860620862064727148_small.jpg\" width=\"176\"/><b>计算机专业分多少种 就业前景怎么样</b><p>有很多的同学是非常想知道，计算机专业分多少种，就业...</p></a><i>2018-11-23</i></li><li><a href=\"/gaokao/238304.html\"><img height=\"132\" src=\"http://img.gaosan.com/upload/peitu/custom/257150/3672.jpg\" width=\"176\"/><b>计算机专业都学什么 女生学计算机好吗</b><p>有很多的同学是都是非常想知道，计算机专业都学什么，...</p></a><i>2019-02-08</i></li><li><a href=\"/gaokao/254241.html\"><img height=\"132\" src=\"http://img.gaosan.com/upload/201908/20190812112746618.jpg\" width=\"176\"/><b>2019年计算机专业大学排名 哪些学校开设计算机专业</b><p>计算机专业是指计算机硬件与软件相结合、面向系统、更...</p></a><i>2019-08-12</i></li><li><a href=\"/gaokao/258845.html\"><img height=\"132\" src=\"http://img.gaosan.com/upload/201910/20191001114525639.jpg\" width=\"176\"/><b>2019年计算机专业大学排名</b><p>计算机专业是指计算机硬件与软件相结合、面向系统、更...</p></a><i>2019-10-01</i></li></ul><p class=\"jz_more\">点击查看  <a href=\"/zhuanyepaiming/\" target=\"_blank\">大学专业排名</a>  更多内容</p></div></div><div class=\"right\"> <script>content_righttop()</script><div class=\"fixed\"><div class=\"sidebar_ba\"><h3><i class=\"sidebar_b_i\"></i> 最新文章</h3><ul> <span class=\"li_h\"><a href=\"/gaokao/263002.html\"><img height=\"150\" src=\"http://img.gaosan.com/upload/201911/20191128110027544.jpg\" width=\"257\"/><span>岳麓书院建于哪个朝代及学子 </span></a></span><li><a href=\"/gaokao/263001.html\" target=\"_blank\"><img height=\"50\" src=\"http://img.gaosan.com/upload/201911/20191128105845745.jpg\" width=\"50\"/><p>南京艺术学院是一本吗</p></a></li><li><a href=\"/gaokao/263000.html\" target=\"_blank\"><img height=\"50\" src=\"http://img.gaosan.com/upload/201911/20191128105606886.jpg\" width=\"50\"/><p>岁寒三友是指哪三个植物及出处</p></a></li><li><a href=\"/gaokao/262999.html\" target=\"_blank\"><img height=\"50\" src=\"http://img.gaosan.com/upload/201911/20191128105531769.jpg\" width=\"50\"/><p>纸上谈兵的指的是谁</p></a></li><li><a href=\"/gaokao/262998.html\" target=\"_blank\"><img height=\"50\" src=\"http://img.gaosan.com/upload/201911/20191128105100062.jpg\" width=\"50\"/><p>市场营销专业就业前景如何</p></a></li></ul></div><div class=\"sidebar_ba\"><h3><i class=\"sidebar_b_ii\"></i> 今日精品</h3><ul> <span class=\"li_h\"><a href=\"/gaokao/81268.html\"><img height=\"150\" src=\"http://img.gaosan.com/upload/201612/6361663254341412773850200_small.jpg\" width=\"257\"/><span>最新民航飞行员招考条件 报考须知 </span></a></span><li><a href=\"/gaokao/230075.html\" target=\"_blank\"><img height=\"50\" src=\"http://img.gaosan.com/upload/201810/6367504096179888695535865_small.jpg\" width=\"50\"/><p>航空学校有哪些 招生需要什么条件</p></a></li><li><a href=\"/gaokao/206241.html\" target=\"_blank\"><img height=\"50\" src=\"http://img.gaosan.com/upload/201803/6365774600818103888488738_small.jpg\" width=\"50\"/><p>高铁乘务员30岁后干嘛 乘务员一般干几年</p></a></li><li><a href=\"/gaokao/205831.html\" target=\"_blank\"><img height=\"50\" src=\"http://img.gaosan.com/upload/201803/6365741471455811036067507_small.jpg\" width=\"50\"/><p>空姐月薪一般多少 工资多少钱一个月</p></a></li><li><a href=\"/gaokao/237410.html\" target=\"_blank\"><img height=\"50\" src=\"http://img.gaosan.com/upload/201901/6368316052335925428870406.jpg\" width=\"50\"/><p>八大美院有哪些</p></a></li></ul></div> <script>content_rightbottom()</script></div></div> <script>page_end()</script></div><div class=\"footer\"><ul><li class=\"footleft\"><span>gaosan</span><span class=\"rr\"></span><p>版权© 高三网 | 吉ICP备15000740号-1</p><p>gaosan.com 隶属于吉林省春雨秋风科技有限公司，其它同名网站均为侵权或假冒</p></li><li class=\"footright\"><span></span><p><a href=\"/about/guanyuyoutu.html\" rel=\"nofollow\">关于我们</a><a href=\"/about/fuwunarong.html\" rel=\"nofollow\">服务内容</a><a href=\"/about/lianxiwomen.html\" rel=\"nofollow\">联系我们</a></p></li></ul></div> <script>var p_CategoryID=75; var p_CityID='0';var p_ArticleID=250582;var p_BaiduChosen=0;var p_SogouChosen=0;var p_Original=0;var p_XiongZhangHao=1;</script> <script src=\"/js/j.js\" type=\"text/javascript\"></script> <script src=\"/js/b.js\" type=\"text/javascript\"></script></body></html>\n"
     ]
    }
   ],
   "source": [
    "url = 'http://www.gaosan.com/gaokao/250582.html'\n",
    "html = urlopen(url).read().decode('utf-8')\n",
    "soup = BeautifulSoup(html,'lxml')\n",
    "print(soup)"
   ]
  },
  {
   "cell_type": "code",
   "execution_count": 50,
   "metadata": {},
   "outputs": [],
   "source": [
    "table = soup.find('table')\n",
    "# print(table)"
   ]
  },
  {
   "cell_type": "code",
   "execution_count": 54,
   "metadata": {},
   "outputs": [],
   "source": [
    "tbody = table.tbody\n",
    "# print(tbody)"
   ]
  },
  {
   "cell_type": "code",
   "execution_count": 63,
   "metadata": {},
   "outputs": [
    {
     "name": "stdout",
     "output_type": "stream",
     "text": [
      "[<tr class=\"firstRow\"><td>序号</td><td>学校名称</td><td>评估结果</td></tr>, <tr><td>1</td><td>北京大学</td><td>A+</td></tr>, <tr><td>2</td><td>清华大学</td><td>A+</td></tr>, <tr><td>3</td><td>浙江大学</td><td>A+</td></tr>, <tr><td>4</td><td>国防科技大学</td><td>A+</td></tr>, <tr><td>5</td><td>北京航空航天大学</td><td>A</td></tr>, <tr><td>6</td><td>北京邮电大学</td><td>A</td></tr>, <tr><td>7</td><td>哈尔滨工业大学</td><td>A</td></tr>, <tr><td>8</td><td>上海交通大学</td><td>A</td></tr>, <tr><td>9</td><td>南京大学</td><td>A</td></tr>, <tr><td>10</td><td>华中科技大学</td><td>A</td></tr>, <tr><td>11</td><td>电子科技大学</td><td>A</td></tr>, <tr><td>12</td><td>北京交通大学</td><td>A-</td></tr>, <tr><td>13</td><td>北京理工大学</td><td>A-</td></tr>, <tr><td>14</td><td>东北大学</td><td>A-</td></tr>, <tr><td>15</td><td>吉林大学</td><td>A-</td></tr>, <tr><td>16</td><td>同济大学</td><td>A-</td></tr>, <tr><td>17</td><td>中国科学技术大学</td><td>A-</td></tr>, <tr><td>18</td><td>武汉大学</td><td>A-</td></tr>, <tr><td>19</td><td>中南大学</td><td>A-</td></tr>, <tr><td>20</td><td>西安交通大学</td><td>A-</td></tr>, <tr><td>21</td><td>西北工业大学</td><td>A-</td></tr>, <tr><td>22</td><td>西安电子科技大学</td><td>A-</td></tr>, <tr><td>23</td><td>解放军信息工程大学</td><td>A-</td></tr>, <tr><td>24</td><td>中国人民大学</td><td>B+</td></tr>, <tr><td>25</td><td>北京工业大学</td><td>B+</td></tr>, <tr><td>26</td><td>北京科技大学</td><td>B+</td></tr>, <tr><td>27</td><td>南开大学</td><td>B+</td></tr>, <tr><td>28</td><td>天津大学</td><td>B+</td></tr>, <tr><td>29</td><td>大连理工大学</td><td>B+</td></tr>, <tr><td>30</td><td>哈尔滨工程大学</td><td>B+</td></tr>, <tr><td>31</td><td>复旦大学</td><td>B+</td></tr>, <tr><td>32</td><td>华东师范大学</td><td>B+</td></tr>, <tr><td>33</td><td>东南大学</td><td>B+</td></tr>, <tr><td>34</td><td>南京航空航天大学</td><td>B+</td></tr>, <tr><td>35</td><td>南京理工大学</td><td>B+</td></tr>, <tr><td>36</td><td>杭州电子科技大学</td><td>B+</td></tr>, <tr><td>37</td><td>合肥工业大学</td><td>B+</td></tr>, <tr><td>38</td><td>厦门大学</td><td>B+</td></tr>, <tr><td>39</td><td>山东大学</td><td>B+</td></tr>, <tr><td>40</td><td>湖南大学</td><td>B+</td></tr>, <tr><td>41</td><td>中山大学</td><td>B+</td></tr>, <tr><td>42</td><td>华南理工大学</td><td>B+</td></tr>, <tr><td>43</td><td>四川大学</td><td>B+</td></tr>, <tr><td>44</td><td>重庆大学</td><td>B+</td></tr>, <tr><td>45</td><td>西南交通大学</td><td>B+</td></tr>, <tr><td>46</td><td>重庆邮电大学</td><td>B+</td></tr>, <tr><td>47</td><td>解放军理工大学</td><td>B+</td></tr>, <tr><td>48</td><td>北京师范大学</td><td>B</td></tr>, <tr><td>49</td><td>天津理工大学</td><td>B</td></tr>, <tr><td>50</td><td>山西大学</td><td>B</td></tr>, <tr><td>51</td><td>河北工业大学</td><td>C+</td></tr>, <tr><td>52</td><td>沈阳建筑大学</td><td>C+</td></tr>, <tr><td>53</td><td>辽宁师范大学</td><td>C+</td></tr>, <tr><td>54</td><td>上海理工大学</td><td>C+</td></tr>, <tr><td>55</td><td>上海海洋大学</td><td>C+</td></tr>, <tr><td>56</td><td>常州大学</td><td>C+</td></tr>, <tr><td>57</td><td>浙江理工大学</td><td>C+</td></tr>, <tr><td>58</td><td>浙江师范大学</td><td>C+</td></tr>, <tr><td>59</td><td>温州大学</td><td>C+</td></tr>, <tr><td>60</td><td>福建师范大学</td><td>C+</td></tr>, <tr><td>61</td><td>南昌大学</td><td>C+</td></tr>, <tr><td>62</td><td>郑州大学</td><td>C+</td></tr>, <tr><td>63</td><td>武汉科技大学</td><td>C+</td></tr>, <tr><td>64</td><td>湖南科技大学</td><td>C+</td></tr>, <tr><td>65</td><td>广西师范大学</td><td>C+</td></tr>, <tr><td>66</td><td>成都信息工程大学</td><td>C+</td></tr>, <tr><td>67</td><td>贵州大学</td><td>C+</td></tr>, <tr><td>68</td><td>昆明理工大学</td><td>C+</td></tr>, <tr><td>69</td><td>长安大学</td><td>C+</td></tr>, <tr><td>70</td><td>青岛大学</td><td>C+</td></tr>, <tr><td>71</td><td>西安邮电大学</td><td>C+</td></tr>, <tr><td>72</td><td>北京工商大学</td><td>C</td></tr>, <tr><td>73</td><td>河北工程大学</td><td>C</td></tr>, <tr><td>74</td><td>石家庄铁道大学</td><td>C</td></tr>, <tr><td>75</td><td>中北大学</td><td>C</td></tr>, <tr><td>76</td><td>东北电力大学</td><td>C</td></tr>, <tr><td>77</td><td>长春工业大学</td><td>C</td></tr>, <tr><td>78</td><td>上海师范大学</td><td>C</td></tr>, <tr><td>79</td><td>安徽工业大学</td><td>C</td></tr>, <tr><td>80</td><td>江西师范大学</td><td>C</td></tr>, <tr><td>81</td><td>山东财经大学</td><td>C</td></tr>, <tr><td>82</td><td>河南理工大学</td><td>C</td></tr>, <tr><td>83</td><td>郑州轻工业学院</td><td>C</td></tr>, <tr><td>84</td><td>湘潭大学</td><td>C</td></tr>, <tr><td>85</td><td>华南农业大学</td><td>C</td></tr>, <tr><td>86</td><td>西安理工大学</td><td>C</td></tr>, <tr><td>87</td><td>西安工业大学</td><td>C</td></tr>, <tr><td>88</td><td>西北农林科技大学</td><td>C</td></tr>, <tr><td>89</td><td>三峡大学</td><td>C</td></tr>, <tr><td>90</td><td>扬州大学</td><td>C</td></tr>, <tr><td>91</td><td>大连大学</td><td>C</td></tr>, <tr><td>92</td><td>广东工业大学</td><td>C</td></tr>, <tr><td>93</td><td>中央民族大学</td><td>C-</td></tr>, <tr><td>94</td><td>沈阳理工大学</td><td>C-</td></tr>, <tr><td>95</td><td>黑龙江大学</td><td>C-</td></tr>, <tr><td>96</td><td>上海海事大学</td><td>C-</td></tr>, <tr><td>97</td><td>江苏科技大学</td><td>C-</td></tr>, <tr><td>98</td><td>华侨大学</td><td>C-</td></tr>, <tr><td>99</td><td>东华理工大学</td><td>C-</td></tr>, <tr><td>100</td><td>江西理工大学</td><td>C-</td></tr>, <tr><td>101</td><td>大连海事大学</td><td>B</td></tr>, <tr><td>102</td><td>长春理工大学</td><td>B</td></tr>, <tr><td>103</td><td>哈尔滨理工大学</td><td>B</td></tr>, <tr><td>104</td><td>燕山大学</td><td>B</td></tr>, <tr><td>105</td><td>华东理工大学</td><td>B</td></tr>, <tr><td>106</td><td>上海大学</td><td>B</td></tr>, <tr><td>107</td><td>苏州大学</td><td>B</td></tr>, <tr><td>108</td><td>中国矿业大学</td><td>B</td></tr>, <tr><td>109</td><td>河海大学</td><td>B</td></tr>, <tr><td>110</td><td>江苏大学</td><td>B</td></tr>, <tr><td>111</td><td>南京信息工程大学</td><td>B</td></tr>, <tr><td>112</td><td>浙江工业大学</td><td>B</td></tr>, <tr><td>113</td><td>安徽大学</td><td>B</td></tr>, <tr><td>114</td><td>中国海洋大学</td><td>B</td></tr>, <tr><td>115</td><td>中国地质大学</td><td>B</td></tr>, <tr><td>116</td><td>武汉理工大学</td><td>B</td></tr>, <tr><td>117</td><td>暨南大学</td><td>B</td></tr>, <tr><td>118</td><td>深圳大学</td><td>B</td></tr>, <tr><td>119</td><td>西南大学</td><td>B</td></tr>, <tr><td>120</td><td>兰州大学</td><td>B</td></tr>, <tr><td>121</td><td>火箭军工程大学</td><td>B</td></tr>, <tr><td>122</td><td>北方工业大学</td><td>B-</td></tr>, <tr><td>123</td><td>中国农业大学</td><td>B-</td></tr>, <tr><td>124</td><td>首都师范大学</td><td>B-</td></tr>, <tr><td>125</td><td>天津工业大学</td><td>B-</td></tr>, <tr><td>126</td><td>华北电力大学</td><td>B-</td></tr>, <tr><td>127</td><td>太原理工大学</td><td>B-</td></tr>, <tr><td>128</td><td>内蒙古大学</td><td>B-</td></tr>, <tr><td>129</td><td>沈阳航空航天大学</td><td>B-</td></tr>, <tr><td>130</td><td>东华大学</td><td>B-</td></tr>, <tr><td>131</td><td>南京邮电大学</td><td>B-</td></tr>, <tr><td>132</td><td>江南大学</td><td>B-</td></tr>, <tr><td>133</td><td>浙江工商大学</td><td>B-</td></tr>, <tr><td>134</td><td>福州大学</td><td>B-</td></tr>, <tr><td>135</td><td>山东科技大学</td><td>B-</td></tr>, <tr><td>136</td><td>济南大学</td><td>B-</td></tr>, <tr><td>137</td><td>华中师范大学</td><td>B-</td></tr>, <tr><td>138</td><td>广西大学</td><td>B-</td></tr>, <tr><td>139</td><td>桂林电子科技大学</td><td>B-</td></tr>, <tr><td>140</td><td>云南大学</td><td>B-</td></tr>, <tr><td>141</td><td>西北大学</td><td>B-</td></tr>, <tr><td>142</td><td>青海师范大学</td><td>B-</td></tr>, <tr><td>143</td><td>新疆大学</td><td>B-</td></tr>, <tr><td>144</td><td>中国石油大学</td><td>B-</td></tr>, <tr><td>145</td><td>空军工程大学</td><td>B-</td></tr>, <tr><td>146</td><td>北京化工大学</td><td>C+</td></tr>, <tr><td>147</td><td>北京语言大学</td><td>C+</td></tr>, <tr><td>148</td><td>中国传媒大学</td><td>C+</td></tr>, <tr><td>149</td><td>中国民航大学</td><td>C+</td></tr>, <tr><td>150</td><td>河北大学</td><td>C+</td></tr>, <tr><td>151</td><td>江西财经大学</td><td>C-</td></tr>, <tr><td>152</td><td>河南工业大学</td><td>C-</td></tr>, <tr><td>153</td><td>河南大学</td><td>C-</td></tr>, <tr><td>154</td><td>河南师范大学</td><td>C-</td></tr>, <tr><td>155</td><td>武汉工程大学</td><td>C-</td></tr>, <tr><td>156</td><td>武汉纺织大学</td><td>C-</td></tr>, <tr><td>157</td><td>湖北工业大学</td><td>C-</td></tr>, <tr><td>158</td><td>长沙理工大学</td><td>C-</td></tr>, <tr><td>159</td><td>海南大学</td><td>C-</td></tr>, <tr><td>160</td><td>桂林理工大学</td><td>C-</td></tr>, <tr><td>161</td><td>西南石油大学</td><td>C-</td></tr>, <tr><td>162</td><td>重庆交通大学</td><td>C-</td></tr>, <tr><td>163</td><td>西华大学</td><td>C-</td></tr>, <tr><td>164</td><td>西南财经大学</td><td>C-</td></tr>, <tr><td>165</td><td>西安石油大学</td><td>C-</td></tr>, <tr><td>166</td><td>北京信息科技大学</td><td>C-</td></tr>, <tr><td>167</td><td>湖南工业大学</td><td>C-</td></tr>, <tr><td>168</td><td>海军航空工程学院</td><td>C-</td></tr>]\n"
     ]
    }
   ],
   "source": [
    "tr = tbody.find_all('tr')\n",
    "print(tr)"
   ]
  },
  {
   "cell_type": "code",
   "execution_count": 59,
   "metadata": {},
   "outputs": [],
   "source": [
    "import xlwt"
   ]
  },
  {
   "cell_type": "code",
   "execution_count": 60,
   "metadata": {},
   "outputs": [],
   "source": [
    "workbook = xlwt.Workbook(encoding = 'utf-8')\n",
    "worksheet = workbook.add_sheet('计算机排行')"
   ]
  },
  {
   "cell_type": "code",
   "execution_count": 64,
   "metadata": {},
   "outputs": [],
   "source": [
    "row =1\n",
    "for l in tr:\n",
    "    td = l.find_all('td')\n",
    "    worksheet.write(row,1,td[0].get_text())\n",
    "    worksheet.write(row,2,td[1].get_text())\n",
    "    worksheet.write(row,3,td[2].get_text())\n",
    "    row = row +1\n",
    "    \n",
    "workbook.save('./wlw12/test.xls')\n",
    "    \n",
    "    "
   ]
  },
  {
   "cell_type": "code",
   "execution_count": null,
   "metadata": {},
   "outputs": [],
   "source": []
  }
 ],
 "metadata": {
  "kernelspec": {
   "display_name": "Python 3",
   "language": "python",
   "name": "python3"
  },
  "language_info": {
   "codemirror_mode": {
    "name": "ipython",
    "version": 3
   },
   "file_extension": ".py",
   "mimetype": "text/x-python",
   "name": "python",
   "nbconvert_exporter": "python",
   "pygments_lexer": "ipython3",
   "version": "3.7.4"
  }
 },
 "nbformat": 4,
 "nbformat_minor": 2
}
